{
 "cells": [
  {
   "cell_type": "code",
   "execution_count": 2,
   "metadata": {},
   "outputs": [],
   "source": [
    "import pandas as pd\n"
   ]
  },
  {
   "cell_type": "code",
   "execution_count": 8,
   "metadata": {},
   "outputs": [
    {
     "data": {
      "text/html": [
       "<div>\n",
       "<style scoped>\n",
       "    .dataframe tbody tr th:only-of-type {\n",
       "        vertical-align: middle;\n",
       "    }\n",
       "\n",
       "    .dataframe tbody tr th {\n",
       "        vertical-align: top;\n",
       "    }\n",
       "\n",
       "    .dataframe thead th {\n",
       "        text-align: right;\n",
       "    }\n",
       "</style>\n",
       "<table border=\"1\" class=\"dataframe\">\n",
       "  <thead>\n",
       "    <tr style=\"text-align: right;\">\n",
       "      <th></th>\n",
       "      <th>Names</th>\n",
       "      <th>Prices</th>\n",
       "      <th>Neighbourhoods</th>\n",
       "      <th>Number_of_reviews</th>\n",
       "      <th>Ratings</th>\n",
       "      <th>Type_of_resturant</th>\n",
       "    </tr>\n",
       "  </thead>\n",
       "  <tbody>\n",
       "    <tr>\n",
       "      <th>0</th>\n",
       "      <td>Stadtklause</td>\n",
       "      <td>€</td>\n",
       "      <td>Kreuzberg</td>\n",
       "      <td>171</td>\n",
       "      <td>4.5</td>\n",
       "      <td>German</td>\n",
       "    </tr>\n",
       "    <tr>\n",
       "      <th>1</th>\n",
       "      <td>Schnitzelei Mitte</td>\n",
       "      <td>€€€</td>\n",
       "      <td>Mitte</td>\n",
       "      <td>51</td>\n",
       "      <td>4.5</td>\n",
       "      <td>Schnitzel</td>\n",
       "    </tr>\n",
       "    <tr>\n",
       "      <th>2</th>\n",
       "      <td>Momotaro Tavern</td>\n",
       "      <td>€€</td>\n",
       "      <td>Mitte</td>\n",
       "      <td>60</td>\n",
       "      <td>4.5</td>\n",
       "      <td>BurgersAsian Fusion</td>\n",
       "    </tr>\n",
       "    <tr>\n",
       "      <th>3</th>\n",
       "      <td>Aigner Gendarmenmarkt</td>\n",
       "      <td>€€€</td>\n",
       "      <td>Mitte</td>\n",
       "      <td>120</td>\n",
       "      <td>4.0</td>\n",
       "      <td>GermanAustrian</td>\n",
       "    </tr>\n",
       "    <tr>\n",
       "      <th>4</th>\n",
       "      <td>Ngon Restaurant Berlin</td>\n",
       "      <td>NaN</td>\n",
       "      <td>NaN</td>\n",
       "      <td>20</td>\n",
       "      <td>4.5</td>\n",
       "      <td>VietnamesePan AsianMitte</td>\n",
       "    </tr>\n",
       "    <tr>\n",
       "      <th>...</th>\n",
       "      <td>...</td>\n",
       "      <td>...</td>\n",
       "      <td>...</td>\n",
       "      <td>...</td>\n",
       "      <td>...</td>\n",
       "      <td>...</td>\n",
       "    </tr>\n",
       "    <tr>\n",
       "      <th>235</th>\n",
       "      <td>The MyMoon</td>\n",
       "      <td>NaN</td>\n",
       "      <td>NaN</td>\n",
       "      <td>4</td>\n",
       "      <td>4.5</td>\n",
       "      <td>Breakfast &amp; BrunchSteakhousesTakeaway &amp; Fast F...</td>\n",
       "    </tr>\n",
       "    <tr>\n",
       "      <th>236</th>\n",
       "      <td>Java House</td>\n",
       "      <td>€</td>\n",
       "      <td>Wedding</td>\n",
       "      <td>13</td>\n",
       "      <td>4.5</td>\n",
       "      <td>Pan Asian</td>\n",
       "    </tr>\n",
       "    <tr>\n",
       "      <th>237</th>\n",
       "      <td>Curry Baude</td>\n",
       "      <td>€</td>\n",
       "      <td>Wedding</td>\n",
       "      <td>106</td>\n",
       "      <td>4.5</td>\n",
       "      <td>Curry SausageTakeaway &amp; Fast Food</td>\n",
       "    </tr>\n",
       "    <tr>\n",
       "      <th>238</th>\n",
       "      <td>Maultaschen Manufaktur</td>\n",
       "      <td>NaN</td>\n",
       "      <td>NaN</td>\n",
       "      <td>4</td>\n",
       "      <td>5.0</td>\n",
       "      <td>SwabianKreuzberg</td>\n",
       "    </tr>\n",
       "    <tr>\n",
       "      <th>239</th>\n",
       "      <td>Restaurant Foreign Affairs</td>\n",
       "      <td>€€€</td>\n",
       "      <td>Mitte</td>\n",
       "      <td>11</td>\n",
       "      <td>4.0</td>\n",
       "      <td>GermanAustrianInternational</td>\n",
       "    </tr>\n",
       "  </tbody>\n",
       "</table>\n",
       "<p>240 rows × 6 columns</p>\n",
       "</div>"
      ],
      "text/plain": [
       "                          Names Prices Neighbourhoods  Number_of_reviews  \\\n",
       "0                   Stadtklause      €      Kreuzberg                171   \n",
       "1             Schnitzelei Mitte    €€€          Mitte                 51   \n",
       "2               Momotaro Tavern     €€          Mitte                 60   \n",
       "3         Aigner Gendarmenmarkt    €€€          Mitte                120   \n",
       "4        Ngon Restaurant Berlin    NaN            NaN                 20   \n",
       "..                          ...    ...            ...                ...   \n",
       "235                  The MyMoon    NaN            NaN                  4   \n",
       "236                  Java House      €        Wedding                 13   \n",
       "237                 Curry Baude      €        Wedding                106   \n",
       "238      Maultaschen Manufaktur    NaN            NaN                  4   \n",
       "239  Restaurant Foreign Affairs    €€€          Mitte                 11   \n",
       "\n",
       "     Ratings                                  Type_of_resturant  \n",
       "0        4.5                                             German  \n",
       "1        4.5                                          Schnitzel  \n",
       "2        4.5                                BurgersAsian Fusion  \n",
       "3        4.0                                     GermanAustrian  \n",
       "4        4.5                           VietnamesePan AsianMitte  \n",
       "..       ...                                                ...  \n",
       "235      4.5  Breakfast & BrunchSteakhousesTakeaway & Fast F...  \n",
       "236      4.5                                          Pan Asian  \n",
       "237      4.5                  Curry SausageTakeaway & Fast Food  \n",
       "238      5.0                                   SwabianKreuzberg  \n",
       "239      4.0                        GermanAustrianInternational  \n",
       "\n",
       "[240 rows x 6 columns]"
      ]
     },
     "execution_count": 8,
     "metadata": {},
     "output_type": "execute_result"
    }
   ],
   "source": [
    "df = pd.read_csv(\"C:/Users/andre/Documents/Strive_repository/1st-Build-Week/Resturantdata.csv\")\n",
    "df"
   ]
  },
  {
   "cell_type": "code",
   "execution_count": 9,
   "metadata": {},
   "outputs": [
    {
     "data": {
      "text/plain": [
       "4.322916666666667"
      ]
     },
     "execution_count": 9,
     "metadata": {},
     "output_type": "execute_result"
    }
   ],
   "source": [
    "#Check if everything works\n",
    "\n",
    "df['Ratings'].mean()"
   ]
  },
  {
   "cell_type": "code",
   "execution_count": 10,
   "metadata": {},
   "outputs": [
    {
     "data": {
      "text/plain": [
       "Mitte             91\n",
       "Prenzlauer        24\n",
       "Tiergarten        17\n",
       "Kreuzberg         16\n",
       "Wedding           12\n",
       "Schöneberg        11\n",
       "Charlottenburg    11\n",
       "Bergmannkiez       5\n",
       "Friedrichshain     4\n",
       "Wilmersdorf        4\n",
       "Reuterkiez         3\n",
       "Steglitz           1\n",
       "Neukölln           1\n",
       "Pankow             1\n",
       "Lichtenberg        1\n",
       "Name: Neighbourhoods, dtype: int64"
      ]
     },
     "execution_count": 10,
     "metadata": {},
     "output_type": "execute_result"
    }
   ],
   "source": [
    "df['Neighbourhoods'].value_counts()"
   ]
  },
  {
   "cell_type": "code",
   "execution_count": 6,
   "metadata": {},
   "outputs": [
    {
     "data": {
      "text/plain": [
       "German                         22\n",
       "Italian                        11\n",
       "Modern European                 6\n",
       "French                          5\n",
       "Ramen                           4\n",
       "                               ..\n",
       "Persian/Iranian                 1\n",
       "MexicanTakeaway & Fast Food     1\n",
       "GeorgianWine Bars               1\n",
       "Pan AsianChinese                1\n",
       "GermanAustrianInternational     1\n",
       "Name: Type_of_resturant, Length: 153, dtype: int64"
      ]
     },
     "execution_count": 6,
     "metadata": {},
     "output_type": "execute_result"
    }
   ],
   "source": [
    "#Check if everything works\n",
    "\n",
    "df['Type_of_resturant'].value_counts()"
   ]
  },
  {
   "cell_type": "code",
   "execution_count": 5,
   "metadata": {},
   "outputs": [
    {
     "data": {
      "text/html": [
       "<div>\n",
       "<style scoped>\n",
       "    .dataframe tbody tr th:only-of-type {\n",
       "        vertical-align: middle;\n",
       "    }\n",
       "\n",
       "    .dataframe tbody tr th {\n",
       "        vertical-align: top;\n",
       "    }\n",
       "\n",
       "    .dataframe thead th {\n",
       "        text-align: right;\n",
       "    }\n",
       "</style>\n",
       "<table border=\"1\" class=\"dataframe\">\n",
       "  <thead>\n",
       "    <tr style=\"text-align: right;\">\n",
       "      <th></th>\n",
       "      <th>Type_of_resturant</th>\n",
       "    </tr>\n",
       "  </thead>\n",
       "  <tbody>\n",
       "    <tr>\n",
       "      <th>0</th>\n",
       "      <td>German</td>\n",
       "    </tr>\n",
       "    <tr>\n",
       "      <th>1</th>\n",
       "      <td>Schnitzel</td>\n",
       "    </tr>\n",
       "    <tr>\n",
       "      <th>2</th>\n",
       "      <td>Burgers</td>\n",
       "    </tr>\n",
       "    <tr>\n",
       "      <th>3</th>\n",
       "      <td>Asian Fusion</td>\n",
       "    </tr>\n",
       "    <tr>\n",
       "      <th>4</th>\n",
       "      <td>German</td>\n",
       "    </tr>\n",
       "    <tr>\n",
       "      <th>...</th>\n",
       "      <td>...</td>\n",
       "    </tr>\n",
       "    <tr>\n",
       "      <th>355</th>\n",
       "      <td>Curry Sausage</td>\n",
       "    </tr>\n",
       "    <tr>\n",
       "      <th>356</th>\n",
       "      <td>Swabian</td>\n",
       "    </tr>\n",
       "    <tr>\n",
       "      <th>357</th>\n",
       "      <td>German</td>\n",
       "    </tr>\n",
       "    <tr>\n",
       "      <th>358</th>\n",
       "      <td>Austrian</td>\n",
       "    </tr>\n",
       "    <tr>\n",
       "      <th>359</th>\n",
       "      <td>International</td>\n",
       "    </tr>\n",
       "  </tbody>\n",
       "</table>\n",
       "<p>360 rows × 1 columns</p>\n",
       "</div>"
      ],
      "text/plain": [
       "    Type_of_resturant\n",
       "0              German\n",
       "1           Schnitzel\n",
       "2             Burgers\n",
       "3        Asian Fusion\n",
       "4              German\n",
       "..                ...\n",
       "355     Curry Sausage\n",
       "356           Swabian\n",
       "357            German\n",
       "358          Austrian\n",
       "359     International\n",
       "\n",
       "[360 rows x 1 columns]"
      ]
     },
     "execution_count": 5,
     "metadata": {},
     "output_type": "execute_result"
    }
   ],
   "source": [
    "df1 = pd.read_csv(\"C:/Users/andre/Desktop/Resturantdata.csv\")\n",
    "df1"
   ]
  },
  {
   "cell_type": "code",
   "execution_count": 6,
   "metadata": {},
   "outputs": [
    {
     "data": {
      "text/plain": [
       "German                49\n",
       "Italian               16\n",
       "Breakfast & Brunch    14\n",
       "Modern European       11\n",
       "Mediterranean         10\n",
       "                      ..\n",
       "Latin American         1\n",
       "Bikes                  1\n",
       "Jewish                 1\n",
       "Russian                1\n",
       "Singaporean            1\n",
       "Name: Type_of_resturant, Length: 90, dtype: int64"
      ]
     },
     "execution_count": 6,
     "metadata": {},
     "output_type": "execute_result"
    }
   ],
   "source": [
    "df1['Type_of_resturant'].value_counts()"
   ]
  },
  {
   "cell_type": "code",
   "execution_count": 11,
   "metadata": {},
   "outputs": [
    {
     "data": {
      "text/html": [
       "<div>\n",
       "<style scoped>\n",
       "    .dataframe tbody tr th:only-of-type {\n",
       "        vertical-align: middle;\n",
       "    }\n",
       "\n",
       "    .dataframe tbody tr th {\n",
       "        vertical-align: top;\n",
       "    }\n",
       "\n",
       "    .dataframe thead th {\n",
       "        text-align: right;\n",
       "    }\n",
       "</style>\n",
       "<table border=\"1\" class=\"dataframe\">\n",
       "  <thead>\n",
       "    <tr style=\"text-align: right;\">\n",
       "      <th></th>\n",
       "      <th>Number_of_reviews</th>\n",
       "      <th>Ratings</th>\n",
       "    </tr>\n",
       "    <tr>\n",
       "      <th>Prices</th>\n",
       "      <th></th>\n",
       "      <th></th>\n",
       "    </tr>\n",
       "  </thead>\n",
       "  <tbody>\n",
       "    <tr>\n",
       "      <th>€</th>\n",
       "      <td>102.800000</td>\n",
       "      <td>4.366667</td>\n",
       "    </tr>\n",
       "    <tr>\n",
       "      <th>€€</th>\n",
       "      <td>102.959016</td>\n",
       "      <td>4.217213</td>\n",
       "    </tr>\n",
       "    <tr>\n",
       "      <th>€€€</th>\n",
       "      <td>60.000000</td>\n",
       "      <td>4.258621</td>\n",
       "    </tr>\n",
       "    <tr>\n",
       "      <th>€€€€</th>\n",
       "      <td>36.500000</td>\n",
       "      <td>4.750000</td>\n",
       "    </tr>\n",
       "  </tbody>\n",
       "</table>\n",
       "</div>"
      ],
      "text/plain": [
       "        Number_of_reviews   Ratings\n",
       "Prices                             \n",
       "€              102.800000  4.366667\n",
       "€€             102.959016  4.217213\n",
       "€€€             60.000000  4.258621\n",
       "€€€€            36.500000  4.750000"
      ]
     },
     "execution_count": 11,
     "metadata": {},
     "output_type": "execute_result"
    }
   ],
   "source": [
    "df.groupby(['Prices']).mean()"
   ]
  }
 ],
 "metadata": {
  "interpreter": {
   "hash": "430b7d4413b2177f05b848cb6acb02b7196cdff9e6dac31e1a37def6732e5784"
  },
  "kernelspec": {
   "display_name": "Python 3.9.7 ('Strive')",
   "language": "python",
   "name": "python3"
  },
  "language_info": {
   "codemirror_mode": {
    "name": "ipython",
    "version": 3
   },
   "file_extension": ".py",
   "mimetype": "text/x-python",
   "name": "python",
   "nbconvert_exporter": "python",
   "pygments_lexer": "ipython3",
   "version": "3.10.0"
  },
  "orig_nbformat": 4
 },
 "nbformat": 4,
 "nbformat_minor": 2
}
