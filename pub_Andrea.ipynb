{
 "cells": [
  {
   "cell_type": "code",
   "execution_count": 1,
   "metadata": {},
   "outputs": [],
   "source": [
    "import pandas as pd\n",
    "from datetime import timedelta, date\n",
    "import re\n",
    "import requests\n",
    "from bs4 import BeautifulSoup\n",
    "import numpy as np\n",
    "from tkinter import *\n",
    "import os"
   ]
  },
  {
   "cell_type": "code",
   "execution_count": 5,
   "metadata": {},
   "outputs": [
    {
     "name": "stdout",
     "output_type": "stream",
     "text": [
      "<Response [200]>\n"
     ]
    }
   ],
   "source": [
    "url = requests.get('https://www.yelp.co.uk/search?find_desc=Pubs&find_loc=Berlin%2C+Germany&start=0')\n",
    "print(url)\n",
    "soup = BeautifulSoup(url.content, 'html.parser')"
   ]
  },
  {
   "cell_type": "code",
   "execution_count": 6,
   "metadata": {},
   "outputs": [
    {
     "data": {
      "text/plain": [
       "['4', '4', '4', '4.5', '4', '4.5', '4.5', '5', '4', '4.5']"
      ]
     },
     "execution_count": 6,
     "metadata": {},
     "output_type": "execute_result"
    }
   ],
   "source": [
    "final_try = []\n",
    "all_try =[]\n",
    "main_container = soup.find_all('div',class_=\"container__09f24__mpR8_ hoverable__09f24__wQ_on margin-t3__09f24__riq4X margin-b3__09f24__l9v5d padding-t3__09f24__TMrIW padding-r3__09f24__eaF7p padding-b3__09f24__S8R2d padding-l3__09f24__IOjKY border--top__09f24__exYYb border--right__09f24__X7Tln border--bottom__09f24___mg5X border--left__09f24__DMOkM border-color--default__09f24__NPAKY\")\n",
    "for contain in main_container:\n",
    "    my_try=contain.find('div',{'role':'img'})\n",
    "    if my_try:\n",
    "        all_try.append(my_try['aria-label'].split(' ')[0])\n",
    "    else:\n",
    "        all_try.append(np.NaN)\n",
    "    \n",
    "    \n",
    "all_try"
   ]
  },
  {
   "cell_type": "code",
   "execution_count": 2,
   "metadata": {},
   "outputs": [
    {
     "name": "stdout",
     "output_type": "stream",
     "text": [
      "<Response [200]>\n"
     ]
    }
   ],
   "source": [
    "url = requests.get('https://www.yelp.co.uk/biz/kilkenny-berlin-5?osq=Pubs')\n",
    "print(url)\n",
    "soup = BeautifulSoup(url.content, 'html.parser')\n",
    "\n"
   ]
  },
  {
   "cell_type": "code",
   "execution_count": 14,
   "metadata": {},
   "outputs": [
    {
     "data": {
      "text/plain": [
       "[]"
      ]
     },
     "execution_count": 14,
     "metadata": {},
     "output_type": "execute_result"
    }
   ],
   "source": [
    "amenities = []\n",
    "# contents = soup.find_all('span', class_= ' css-qyp8bo')\n",
    "# for amen in contents:\n",
    "#     amenities.append(amen.text)\n",
    "\n",
    "# print(amenities)\n",
    "    \n",
    "\n",
    "\n",
    "\n",
    "\n",
    "# contents = soup.find_all('div', class_= ' arrange__09f24__LDfbs gutter-2__09f24__CCmUo layout-wrap__09f24__GEBlv layout-2-units__09f24__PsGVW border-color--default__09f24__NPAKY')\n",
    "\n",
    "# for amen in contents:\n",
    "#     first_try = amen.find_all('div', class_= ' css-1p9ibgf')\n",
    "#     amenities.append(first_try.text)\n",
    "\n",
    "# print(amenities)\n",
    "\n",
    "\n",
    "\n",
    "\n",
    "pub_amenities = []\n",
    "contents = soup.find_all('div', class_ ='arrange__09f24__LDfbs gutter-2__09f24__CCmUo layout-wrap__09f24__GEBlv layout-2-units__09f24__PsGVW border-color--default__09f24__NPAKY')\n",
    "\n",
    "for amen in items:\n",
    "    try:\n",
    "        page = requests.get(amen)\n",
    "        pub_amenities.append(contents[0].text.split(\",\"))\n",
    "                \n",
    "    except:\n",
    "        pub_amenities.append(\"NaN\")\n",
    "\n",
    "pub_amenities\n"
   ]
  },
  {
   "cell_type": "code",
   "execution_count": 7,
   "metadata": {},
   "outputs": [],
   "source": [
    "base = os.path.dirname(os.path.abspath('pub_Andrea.ipynb'))"
   ]
  },
  {
   "cell_type": "code",
   "execution_count": 3,
   "metadata": {},
   "outputs": [],
   "source": [
    "url = requests.get('https://www.yelp.co.uk/search?find_desc=Pubs&find_loc=Berlin%2C+Germany&start=0')\n",
    "soup = BeautifulSoup(url.content, 'html.parser')"
   ]
  },
  {
   "cell_type": "code",
   "execution_count": 8,
   "metadata": {},
   "outputs": [
    {
     "ename": "FileNotFoundError",
     "evalue": "[Errno 2] No such file or directory: 'c:\\\\Users\\\\andre\\\\Documents\\\\Strive_repository\\\\1st-Build-Week\\\\1st-Build-Week'",
     "output_type": "error",
     "traceback": [
      "\u001b[1;31m---------------------------------------------------------------------------\u001b[0m",
      "\u001b[1;31mFileNotFoundError\u001b[0m                         Traceback (most recent call last)",
      "\u001b[1;32m~\\AppData\\Local\\Temp/ipykernel_10936/3460878525.py\u001b[0m in \u001b[0;36m<module>\u001b[1;34m\u001b[0m\n\u001b[1;32m----> 1\u001b[1;33m \u001b[0mhtml\u001b[0m \u001b[1;33m=\u001b[0m \u001b[0mopen\u001b[0m\u001b[1;33m(\u001b[0m\u001b[0mos\u001b[0m\u001b[1;33m.\u001b[0m\u001b[0mpath\u001b[0m\u001b[1;33m.\u001b[0m\u001b[0mjoin\u001b[0m\u001b[1;33m(\u001b[0m\u001b[0mbase\u001b[0m\u001b[1;33m,\u001b[0m \u001b[1;34m'1st-Build-Week'\u001b[0m\u001b[1;33m)\u001b[0m\u001b[1;33m)\u001b[0m\u001b[1;33m\u001b[0m\u001b[1;33m\u001b[0m\u001b[0m\n\u001b[0m",
      "\u001b[1;31mFileNotFoundError\u001b[0m: [Errno 2] No such file or directory: 'c:\\\\Users\\\\andre\\\\Documents\\\\Strive_repository\\\\1st-Build-Week\\\\1st-Build-Week'"
     ]
    }
   ],
   "source": [
    "html = open(os.path.join(base, '1st-Build-Week'))"
   ]
  }
 ],
 "metadata": {
  "interpreter": {
   "hash": "b30284c3eb2fe4bedcae5b4d3ef6c8cdca82eb3ff0361126b1f813dcb02e6084"
  },
  "kernelspec": {
   "display_name": "Python 3.8.12 ('strive')",
   "language": "python",
   "name": "python3"
  },
  "language_info": {
   "codemirror_mode": {
    "name": "ipython",
    "version": 3
   },
   "file_extension": ".py",
   "mimetype": "text/x-python",
   "name": "python",
   "nbconvert_exporter": "python",
   "pygments_lexer": "ipython3",
   "version": "3.10.0"
  },
  "orig_nbformat": 4
 },
 "nbformat": 4,
 "nbformat_minor": 2
}
