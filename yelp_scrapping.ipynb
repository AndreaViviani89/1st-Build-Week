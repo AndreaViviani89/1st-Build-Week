{
 "cells": [
  {
   "cell_type": "code",
   "execution_count": 1,
   "metadata": {},
   "outputs": [],
   "source": [
    "import numpy as np\n",
    "import pandas as pd\n",
    "from datetime import timedelta, date\n",
    "import time\n",
    "import re\n",
    "import requests\n",
    "from bs4 import BeautifulSoup"
   ]
  },
  {
   "cell_type": "code",
   "execution_count": null,
   "metadata": {},
   "outputs": [],
   "source": [
    "#For csrapping whole pages \n",
    "num = [1]\n",
    "for i in range(10,90,10):\n",
    "    num.append(i)\n",
    "soups = [] \n",
    "for page_num in num:\n",
    "    url = requests.get(f'https://www.yelp.co.uk/search?cflt=burgers&find_loc=Berlin%2C+Germany&start={page_num}')\n",
    "    print(url)\n",
    "    soups.append( BeautifulSoup(url.content, 'html.parser') )\n",
    "    time.sleep(10)"
   ]
  },
  {
   "cell_type": "code",
   "execution_count": 2,
   "metadata": {},
   "outputs": [
    {
     "name": "stdout",
     "output_type": "stream",
     "text": [
      "<Response [200]>\n"
     ]
    }
   ],
   "source": [
    "#For the single page\n",
    "url = requests.get('https://www.yelp.co.uk/search?cflt=burgers&find_loc=Berlin%2C+Germany')\n",
    "print(url)\n",
    "soup = BeautifulSoup(url.content, 'html.parser')"
   ]
  },
  {
   "cell_type": "code",
   "execution_count": 3,
   "metadata": {},
   "outputs": [],
   "source": [
    "main_container = soup.find_all('div',class_=\"arrange-unit__09f24__rqHTg arrange-unit-fill__09f24__CUubG border-color--default__09f24__NPAKY\")"
   ]
  },
  {
   "cell_type": "code",
   "execution_count": 4,
   "metadata": {},
   "outputs": [],
   "source": [
    "# List of parameters needed \n",
    "resturant_names =[]\n",
    "ratings = []\n",
    "number_of_rating =[]\n",
    "price_level = []\n",
    "neighbourhood = []"
   ]
  },
  {
   "cell_type": "code",
   "execution_count": 5,
   "metadata": {},
   "outputs": [],
   "source": [
    "##Resturant names\n",
    "resturant_names= []\n",
    "for main in main_container:\n",
    "    test = main.find_all(\"h3\",class_=\"css-kagwww\")\n",
    "    for tes in test:\n",
    "        resturant_names.append(tes.text.replace('\\xa0','').split('.')[1])\n",
    "\n",
    "\n"
   ]
  },
  {
   "cell_type": "code",
   "execution_count": 6,
   "metadata": {},
   "outputs": [],
   "source": [
    "##Number of rating\n",
    "fin = soup.find_all('span', class_='reviewCount__09f24__tnBk4 css-chan6m')\n",
    "for fins in fin:\n",
    "    number_of_rating.append(fins.text)\n"
   ]
  },
  {
   "cell_type": "code",
   "execution_count": 7,
   "metadata": {},
   "outputs": [],
   "source": [
    "##Price level\n",
    "price_level = []\n",
    "priincing = soup.select('.css-dzq7l1')\n",
    "for pri in priincing:\n",
    "    raw_output = pri.text\n",
    "    price_level.append(re.findall('€+',raw_output))"
   ]
  },
  {
   "cell_type": "code",
   "execution_count": 8,
   "metadata": {},
   "outputs": [],
   "source": [
    "##Neighbourhood\n",
    "neighbour = soup.select('.css-dzq7l1')\n",
    "for neighb in neighbour:\n",
    "    raw_neighb= neighb.text\n",
    "    neighbourhood.append(re.findall('€+(\\w+)',raw_neighb))\n",
    "# re.findall('€+(\\w+)',raw_output)\n"
   ]
  },
  {
   "cell_type": "code",
   "execution_count": 9,
   "metadata": {},
   "outputs": [
    {
     "data": {
      "text/html": [
       "<div>\n",
       "<style scoped>\n",
       "    .dataframe tbody tr th:only-of-type {\n",
       "        vertical-align: middle;\n",
       "    }\n",
       "\n",
       "    .dataframe tbody tr th {\n",
       "        vertical-align: top;\n",
       "    }\n",
       "\n",
       "    .dataframe thead th {\n",
       "        text-align: right;\n",
       "    }\n",
       "</style>\n",
       "<table border=\"1\" class=\"dataframe\">\n",
       "  <thead>\n",
       "    <tr style=\"text-align: right;\">\n",
       "      <th></th>\n",
       "      <th>Name</th>\n",
       "      <th>Price</th>\n",
       "      <th>Neighbourhood</th>\n",
       "      <th>number_of_rating</th>\n",
       "    </tr>\n",
       "  </thead>\n",
       "  <tbody>\n",
       "    <tr>\n",
       "      <th>0</th>\n",
       "      <td>Momotaro Tavern</td>\n",
       "      <td>€€</td>\n",
       "      <td>Mitte</td>\n",
       "      <td>60</td>\n",
       "    </tr>\n",
       "    <tr>\n",
       "      <th>1</th>\n",
       "      <td>BBI Berlinburger International</td>\n",
       "      <td>€€</td>\n",
       "      <td>Reuterkiez</td>\n",
       "      <td>331</td>\n",
       "    </tr>\n",
       "    <tr>\n",
       "      <th>2</th>\n",
       "      <td>Burgermeister</td>\n",
       "      <td>€</td>\n",
       "      <td>Kreuzberg</td>\n",
       "      <td>711</td>\n",
       "    </tr>\n",
       "    <tr>\n",
       "      <th>3</th>\n",
       "      <td>Shiso Burger</td>\n",
       "      <td>€€</td>\n",
       "      <td>Mitte</td>\n",
       "      <td>299</td>\n",
       "    </tr>\n",
       "    <tr>\n",
       "      <th>4</th>\n",
       "      <td>Louis Alfons</td>\n",
       "      <td>€€</td>\n",
       "      <td>Wedding</td>\n",
       "      <td>14</td>\n",
       "    </tr>\n",
       "    <tr>\n",
       "      <th>5</th>\n",
       "      <td>Marthas</td>\n",
       "      <td>NaN</td>\n",
       "      <td>NaN</td>\n",
       "      <td>4</td>\n",
       "    </tr>\n",
       "    <tr>\n",
       "      <th>6</th>\n",
       "      <td>Club Burger</td>\n",
       "      <td>€€</td>\n",
       "      <td>Mitte</td>\n",
       "      <td>18</td>\n",
       "    </tr>\n",
       "    <tr>\n",
       "      <th>7</th>\n",
       "      <td>The Bird</td>\n",
       "      <td>€€</td>\n",
       "      <td>Prenzlauer</td>\n",
       "      <td>665</td>\n",
       "    </tr>\n",
       "    <tr>\n",
       "      <th>8</th>\n",
       "      <td>Rembrandt-Burger</td>\n",
       "      <td>€€</td>\n",
       "      <td>Friedrichshain</td>\n",
       "      <td>189</td>\n",
       "    </tr>\n",
       "    <tr>\n",
       "      <th>9</th>\n",
       "      <td>Peter Pane</td>\n",
       "      <td>€€</td>\n",
       "      <td>Mitte</td>\n",
       "      <td>78</td>\n",
       "    </tr>\n",
       "  </tbody>\n",
       "</table>\n",
       "</div>"
      ],
      "text/plain": [
       "                             Name Price   Neighbourhood number_of_rating\n",
       "0                 Momotaro Tavern    €€           Mitte               60\n",
       "1  BBI Berlinburger International    €€      Reuterkiez              331\n",
       "2                   Burgermeister     €       Kreuzberg              711\n",
       "3                    Shiso Burger    €€           Mitte              299\n",
       "4                    Louis Alfons    €€         Wedding               14\n",
       "5                         Marthas   NaN             NaN                4\n",
       "6                     Club Burger    €€           Mitte               18\n",
       "7                        The Bird    €€      Prenzlauer              665\n",
       "8                Rembrandt-Burger    €€  Friedrichshain              189\n",
       "9                      Peter Pane    €€           Mitte               78"
      ]
     },
     "execution_count": 9,
     "metadata": {},
     "output_type": "execute_result"
    }
   ],
   "source": [
    "##For cleaning the price column \n",
    "import numpy as np\n",
    "final_data =pd.DataFrame({'Name':resturant_names, 'Price':price_level,'Neighbourhood':neighbourhood,'number_of_rating':number_of_rating})\n",
    "final_data=final_data.mask(final_data.applymap(str).eq('[]'))\n",
    "final_data=final_data.explode(['Price','Neighbourhood'])\n",
    "final_data"
   ]
  }
 ],
 "metadata": {
  "interpreter": {
   "hash": "b30284c3eb2fe4bedcae5b4d3ef6c8cdca82eb3ff0361126b1f813dcb02e6084"
  },
  "kernelspec": {
   "display_name": "Python 3.8.12 ('strive')",
   "language": "python",
   "name": "python3"
  },
  "language_info": {
   "codemirror_mode": {
    "name": "ipython",
    "version": 3
   },
   "file_extension": ".py",
   "mimetype": "text/x-python",
   "name": "python",
   "nbconvert_exporter": "python",
   "pygments_lexer": "ipython3",
   "version": "3.8.12"
  },
  "orig_nbformat": 4
 },
 "nbformat": 4,
 "nbformat_minor": 2
}
