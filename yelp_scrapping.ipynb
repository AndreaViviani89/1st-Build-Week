{
 "cells": [
  {
   "cell_type": "code",
   "execution_count": 150,
   "metadata": {},
   "outputs": [],
   "source": [
    "import pandas as pd\n",
    "from datetime import timedelta, date\n",
    "import re\n",
    "import requests\n",
    "from bs4 import BeautifulSoup"
   ]
  },
  {
   "cell_type": "code",
   "execution_count": 151,
   "metadata": {},
   "outputs": [
    {
     "name": "stdout",
     "output_type": "stream",
     "text": [
      "<Response [200]>\n"
     ]
    }
   ],
   "source": [
    "url = requests.get('https://www.yelp.co.uk/search?cflt=burgers&find_loc=Berlin%2C+Germany')\n",
    "print(url)\n",
    "soup = BeautifulSoup(url.content, 'html.parser')"
   ]
  },
  {
   "cell_type": "code",
   "execution_count": 152,
   "metadata": {},
   "outputs": [],
   "source": [
    "main_container = soup.find_all('div',class_=\"arrange-unit__09f24__rqHTg arrange-unit-fill__09f24__CUubG border-color--default__09f24__NPAKY\")"
   ]
  },
  {
   "cell_type": "code",
   "execution_count": 153,
   "metadata": {},
   "outputs": [],
   "source": [
    "# List of parameters needed \n",
    "resturant_names =[]\n",
    "ratings = []\n",
    "number_of_rating =[]\n",
    "price_level = []\n",
    "neighbourhood = []"
   ]
  },
  {
   "cell_type": "code",
   "execution_count": 154,
   "metadata": {},
   "outputs": [],
   "source": [
    "resturant_names= []\n",
    "for main in main_container:\n",
    "    test = main.find_all(\"h3\",class_=\"css-kagwww\")\n",
    "    for tes in test:\n",
    "        resturant_names.append(tes.text)\n",
    "\n"
   ]
  },
  {
   "cell_type": "code",
   "execution_count": 156,
   "metadata": {},
   "outputs": [],
   "source": [
    "#Number of rating\n",
    "fin = soup.find_all('span', class_='reviewCount__09f24__tnBk4 css-chan6m')\n",
    "for fins in fin:\n",
    "    number_of_rating.append(fins.text)\n"
   ]
  },
  {
   "cell_type": "code",
   "execution_count": 158,
   "metadata": {},
   "outputs": [
    {
     "data": {
      "text/plain": [
       "['1.\\xa0BBI Berlinburger International',\n",
       " '2.\\xa0Momotaro Tavern',\n",
       " '3.\\xa0Burgermeister',\n",
       " '4.\\xa0Shiso Burger',\n",
       " '5.\\xa0The Bird',\n",
       " '6.\\xa0Louis Alfons',\n",
       " '7.\\xa0Marthas',\n",
       " '8.\\xa0Club Burger',\n",
       " '9.\\xa0Rembrandt-Burger',\n",
       " '10.\\xa0Peter Pane']"
      ]
     },
     "execution_count": 158,
     "metadata": {},
     "output_type": "execute_result"
    }
   ],
   "source": [
    "resturant_names"
   ]
  },
  {
   "cell_type": "code",
   "execution_count": 161,
   "metadata": {},
   "outputs": [
    {
     "data": {
      "text/plain": [
       "['Burgers€€Reuterkiez',\n",
       " 'BurgersAsian Fusion€€Mitte',\n",
       " 'Takeaway & Fast FoodBurgers€Kreuzberg',\n",
       " 'Burgers€€Mitte',\n",
       " 'BurgersSteakhouses€€Prenzlauer Berg',\n",
       " 'BurgersSteakhouses€€Wedding',\n",
       " 'BurgersTakeaway & Fast FoodKreuzberg',\n",
       " 'BurgersFood StandsTakeaway & Fast Food€€Mitte',\n",
       " 'Burgers€€Friedrichshain',\n",
       " 'Burgers€€Mitte']"
      ]
     },
     "execution_count": 161,
     "metadata": {},
     "output_type": "execute_result"
    }
   ],
   "source": [
    "pricing"
   ]
  },
  {
   "cell_type": "code",
   "execution_count": 62,
   "metadata": {},
   "outputs": [
    {
     "data": {
      "text/plain": [
       "[]"
      ]
     },
     "execution_count": 62,
     "metadata": {},
     "output_type": "execute_result"
    }
   ],
   "source": [
    "#Ratings \n",
    "for main in main_container:\n",
    "    rates = main.find_all(\"div\",class_=\" i-stars__09f24__M1AR7 i-stars--regular-4__09f24__qui79 border-color--default__09f24__NPAKY overflow--hidden__09f24___ayzG\")\n",
    "    for rate in rates:\n",
    "        ratings.append(rate.text)\n",
    "\n",
    "ratings\n"
   ]
  },
  {
   "cell_type": "code",
   "execution_count": 160,
   "metadata": {},
   "outputs": [],
   "source": [
    "# #1\n",
    "# pricy = soup.find_all('span',class_='priceRange__09f24__mmOuH css-1s7bx9e')\n",
    "# for price in pricy:\n",
    "#     price_level.append(price.text)\n",
    "    \n",
    "# price_level\n",
    "\n",
    "##2\n",
    "# pricing = []\n",
    "# priincing = soup.select('.css-dzq7l1')\n",
    "# for pri in priincing:\n",
    "#     pricing.append(pri.text)\n"
   ]
  },
  {
   "cell_type": "code",
   "execution_count": 124,
   "metadata": {},
   "outputs": [
    {
     "data": {
      "text/plain": [
       "'/biz/momotaro-tavern-berlin'"
      ]
     },
     "execution_count": 124,
     "metadata": {},
     "output_type": "execute_result"
    }
   ],
   "source": [
    "amenities = soup.find_all('span',class_= ' css-1egxyvc')\n",
    "for amen in amenities:\n",
    "    another_url = amen.a['href']\n",
    "    url_2 = 'https://www.yelp.co.uk{}'.format(another_url)\n",
    "\n"
   ]
  },
  {
   "cell_type": "code",
   "execution_count": 142,
   "metadata": {},
   "outputs": [],
   "source": [
    "anenn = []\n",
    "url_2 = 'https://www.yelp.co.uk{}'.format(another_url)\n",
    "response = requests.get(url_2)\n",
    "pages = BeautifulSoup(response.content,'html.parser')\n",
    "featur = pages.find_all('div',class_= 'arrange__09f24__LDfbs gutter-2__09f24__CCmUo layout-wrap__09f24__GEBlv layout-2-units__09f24__PsGVW border-color--default__09f24__NPAKY')\n",
    "# features = pages.find_all('section',class_= 'margin-t4__09f24__G0VVf padding-t4__09f24__Y6aGL border--top__09f24__exYYb border-color--default__09f24__NPAKY')\n",
    "for fean in featur:\n",
    "    featn = fean.find_all(\"span\",class_=\"css-1p9ibgf\")\n",
    "    for featsn in featn:\n",
    "        anenn.append(featsn.text)\n",
    "\n"
   ]
  },
  {
   "cell_type": "code",
   "execution_count": 148,
   "metadata": {},
   "outputs": [],
   "source": [
    "rest_amenitiess = []\n",
    "css_class =  pages.select('.vertical-align-baseline__09f24__fA6Jk .css-1p9ibgf')\n",
    "for amenity in css_class:\n",
    "    rest_amenitiess.append(amenity.text)\n"
   ]
  },
  {
   "cell_type": "code",
   "execution_count": 149,
   "metadata": {},
   "outputs": [
    {
     "data": {
      "text/plain": [
       "['Takes Reservations', 'Offers Takeout', 'Many Vegetarian Options']"
      ]
     },
     "execution_count": 149,
     "metadata": {},
     "output_type": "execute_result"
    }
   ],
   "source": []
  },
  {
   "cell_type": "code",
   "execution_count": null,
   "metadata": {},
   "outputs": [],
   "source": []
  }
 ],
 "metadata": {
  "interpreter": {
   "hash": "b30284c3eb2fe4bedcae5b4d3ef6c8cdca82eb3ff0361126b1f813dcb02e6084"
  },
  "kernelspec": {
   "display_name": "Python 3.8.12 ('strive')",
   "language": "python",
   "name": "python3"
  },
  "language_info": {
   "codemirror_mode": {
    "name": "ipython",
    "version": 3
   },
   "file_extension": ".py",
   "mimetype": "text/x-python",
   "name": "python",
   "nbconvert_exporter": "python",
   "pygments_lexer": "ipython3",
   "version": "3.8.12"
  },
  "orig_nbformat": 4
 },
 "nbformat": 4,
 "nbformat_minor": 2
}
