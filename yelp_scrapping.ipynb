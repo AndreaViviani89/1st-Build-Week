{
 "cells": [
  {
   "cell_type": "code",
   "execution_count": 150,
   "metadata": {},
   "outputs": [],
   "source": [
    "import pandas as pd\n",
    "from datetime import timedelta, date\n",
    "import re\n",
    "import requests\n",
    "from bs4 import BeautifulSoup"
   ]
  },
  {
   "cell_type": "code",
   "execution_count": 151,
   "metadata": {},
   "outputs": [
    {
     "name": "stdout",
     "output_type": "stream",
     "text": [
      "<Response [200]>\n"
     ]
    }
   ],
   "source": [
    "url = requests.get('https://www.yelp.co.uk/search?cflt=burgers&find_loc=Berlin%2C+Germany')\n",
    "print(url)\n",
    "soup = BeautifulSoup(url.content, 'html.parser')"
   ]
  },
  {
   "cell_type": "code",
   "execution_count": 152,
   "metadata": {},
   "outputs": [],
   "source": [
    "main_container = soup.find_all('div',class_=\"arrange-unit__09f24__rqHTg arrange-unit-fill__09f24__CUubG border-color--default__09f24__NPAKY\")"
   ]
  },
  {
   "cell_type": "code",
   "execution_count": 153,
   "metadata": {},
   "outputs": [],
   "source": [
    "# List of parameters needed \n",
    "resturant_names =[]\n",
    "ratings = []\n",
    "number_of_rating =[]\n",
    "price_level = []\n",
    "neighbourhood = []"
   ]
  },
  {
   "cell_type": "code",
   "execution_count": 154,
   "metadata": {},
   "outputs": [],
   "source": [
    "#resturant names\n",
    "resturant_names= []\n",
    "for main in main_container:\n",
    "    test = main.find_all(\"h3\",class_=\"css-kagwww\")\n",
    "    for tes in test:\n",
    "        resturant_names.append(tes.text)\n",
    "\n"
   ]
  },
  {
   "cell_type": "code",
   "execution_count": 156,
   "metadata": {},
   "outputs": [],
   "source": [
    "#Number of rating\n",
    "fin = soup.find_all('span', class_='reviewCount__09f24__tnBk4 css-chan6m')\n",
    "for fins in fin:\n",
    "    number_of_rating.append(fins.text)\n"
   ]
  },
  {
   "cell_type": "code",
   "execution_count": 158,
   "metadata": {},
   "outputs": [
    {
     "data": {
      "text/plain": [
       "['1.\\xa0BBI Berlinburger International',\n",
       " '2.\\xa0Momotaro Tavern',\n",
       " '3.\\xa0Burgermeister',\n",
       " '4.\\xa0Shiso Burger',\n",
       " '5.\\xa0The Bird',\n",
       " '6.\\xa0Louis Alfons',\n",
       " '7.\\xa0Marthas',\n",
       " '8.\\xa0Club Burger',\n",
       " '9.\\xa0Rembrandt-Burger',\n",
       " '10.\\xa0Peter Pane']"
      ]
     },
     "execution_count": 158,
     "metadata": {},
     "output_type": "execute_result"
    }
   ],
   "source": [
    "#Price level\n",
    "price_level = []\n",
    "priincing = soup.select('.css-dzq7l1')\n",
    "for pri in priincing:\n",
    "    price_level.append(pri.text)"
   ]
  },
  {
   "cell_type": "code",
   "execution_count": 62,
   "metadata": {},
   "outputs": [
    {
     "data": {
      "text/plain": [
       "[]"
      ]
     },
     "execution_count": 62,
     "metadata": {},
     "output_type": "execute_result"
    }
   ],
   "source": [
    "#Ratings \n",
    "# for main in main_container:\n",
    "#     rates = main.find_all(\"div\",class_=\" i-stars__09f24__M1AR7 i-stars--regular-4__09f24__qui79 border-color--default__09f24__NPAKY overflow--hidden__09f24___ayzG\")\n",
    "#     for rate in rates:\n",
    "#         ratings.append(rate.text)\n",
    "\n",
    "# ratings\n"
   ]
  },
  {
   "cell_type": "code",
   "execution_count": null,
   "metadata": {},
   "outputs": [],
   "source": []
  }
 ],
 "metadata": {
  "interpreter": {
   "hash": "b30284c3eb2fe4bedcae5b4d3ef6c8cdca82eb3ff0361126b1f813dcb02e6084"
  },
  "kernelspec": {
   "display_name": "Python 3.8.12 ('strive')",
   "language": "python",
   "name": "python3"
  },
  "language_info": {
   "codemirror_mode": {
    "name": "ipython",
    "version": 3
   },
   "file_extension": ".py",
   "mimetype": "text/x-python",
   "name": "python",
   "nbconvert_exporter": "python",
   "pygments_lexer": "ipython3",
   "version": "3.8.12"
  },
  "orig_nbformat": 4
 },
 "nbformat": 4,
 "nbformat_minor": 2
}
