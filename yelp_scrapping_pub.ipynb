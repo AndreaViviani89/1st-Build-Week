{
 "cells": [
  {
   "cell_type": "code",
   "execution_count": 1,
   "metadata": {},
   "outputs": [],
   "source": [
    "import numpy as np\n",
    "import pandas as pd\n",
    "from datetime import timedelta, date\n",
    "import time\n",
    "import re\n",
    "import requests\n",
    "from bs4 import BeautifulSoup"
   ]
  },
  {
   "cell_type": "code",
   "execution_count": 2,
   "metadata": {},
   "outputs": [
    {
     "name": "stdout",
     "output_type": "stream",
     "text": [
      "<Response [200]>\n"
     ]
    },
    {
     "ename": "KeyboardInterrupt",
     "evalue": "",
     "output_type": "error",
     "traceback": [
      "\u001b[1;31m---------------------------------------------------------------------------\u001b[0m",
      "\u001b[1;31mKeyboardInterrupt\u001b[0m                         Traceback (most recent call last)",
      "\u001b[1;32m~\\AppData\\Local\\Temp/ipykernel_10864/966260467.py\u001b[0m in \u001b[0;36m<module>\u001b[1;34m\u001b[0m\n\u001b[0;32m      8\u001b[0m     \u001b[0mprint\u001b[0m\u001b[1;33m(\u001b[0m\u001b[0murl\u001b[0m\u001b[1;33m)\u001b[0m\u001b[1;33m\u001b[0m\u001b[1;33m\u001b[0m\u001b[0m\n\u001b[0;32m      9\u001b[0m     \u001b[0msoups\u001b[0m\u001b[1;33m.\u001b[0m\u001b[0mappend\u001b[0m\u001b[1;33m(\u001b[0m \u001b[0mBeautifulSoup\u001b[0m\u001b[1;33m(\u001b[0m\u001b[0murl\u001b[0m\u001b[1;33m.\u001b[0m\u001b[0mcontent\u001b[0m\u001b[1;33m,\u001b[0m \u001b[1;34m'html.parser'\u001b[0m\u001b[1;33m)\u001b[0m \u001b[1;33m)\u001b[0m\u001b[1;33m\u001b[0m\u001b[1;33m\u001b[0m\u001b[0m\n\u001b[1;32m---> 10\u001b[1;33m     \u001b[0mtime\u001b[0m\u001b[1;33m.\u001b[0m\u001b[0msleep\u001b[0m\u001b[1;33m(\u001b[0m\u001b[1;36m12\u001b[0m\u001b[1;33m)\u001b[0m\u001b[1;33m\u001b[0m\u001b[1;33m\u001b[0m\u001b[0m\n\u001b[0m",
      "\u001b[1;31mKeyboardInterrupt\u001b[0m: "
     ]
    }
   ],
   "source": [
    "#For csrapping whole pages \n",
    "num = [1]\n",
    "for i in range(0,240,10):\n",
    "    num.append(i)\n",
    "soups = [] \n",
    "for page_num in num:\n",
    "    url = requests.get(f'https://www.yelp.co.uk/search?find_desc=Pubs&find_loc=Berlin%2C+Germany&start={page_num}')\n",
    "    print(url)\n",
    "    soups.append( BeautifulSoup(url.content, 'html.parser') )\n",
    "    time.sleep(12)"
   ]
  },
  {
   "cell_type": "code",
   "execution_count": 10,
   "metadata": {},
   "outputs": [],
   "source": [
    "pub_names2 =[]\n",
    "ratings2 = []\n",
    "number_of_rating2 =[]\n",
    "price_level2 = []\n",
    "neighbourhood2 = []\n",
    "for soup in soups:\n",
    "    htags =soup.find_all(\"h3\",class_=\"css-kagwww\")\n",
    "    for tags in htags:\n",
    "        pub_names2.append(tags.text.replace('\\xa0','').split('.')[1])\n",
    "    rates = soup.find_all('span', class_='reviewCount__09f24__tnBk4 css-chan6m')\n",
    "    for rate in rates:\n",
    "        number_of_rating2.append(rate.text)\n",
    "    price_level = []\n",
    "    princing = soup.select('.css-dzq7l1')\n",
    "    for price in princing:\n",
    "        price_output = price.text\n",
    "        price_level2.append(re.findall('€+',price_output))\n",
    "    neighbour = soup.select('.css-dzq7l1')\n",
    "    for neighb in neighbour:\n",
    "        neighb_output= neighb.text\n",
    "        neighbourhood2.append(re.findall('€+(\\w+)',neighb_output))\n",
    "    ratings = soup.find_all('div',{'role':'img'})\n",
    "    for rate in ratings:\n",
    "        ratings2.append(rate['aria-label'])\n",
    "\n",
    "\n",
    "\n"
   ]
  },
  {
   "cell_type": "code",
   "execution_count": 11,
   "metadata": {},
   "outputs": [
    {
     "name": "stdout",
     "output_type": "stream",
     "text": [
      "250\n",
      "250\n",
      "250\n",
      "8\n",
      "228\n"
     ]
    }
   ],
   "source": [
    "print(len(pub_names2))\n",
    "print(len(price_level2))\n",
    "print(len(neighbourhood2))\n",
    "print(len(ratings))\n",
    "print(len(number_of_rating2))"
   ]
  },
  {
   "cell_type": "code",
   "execution_count": 6,
   "metadata": {},
   "outputs": [
    {
     "data": {
      "text/html": [
       "<div>\n",
       "<style scoped>\n",
       "    .dataframe tbody tr th:only-of-type {\n",
       "        vertical-align: middle;\n",
       "    }\n",
       "\n",
       "    .dataframe tbody tr th {\n",
       "        vertical-align: top;\n",
       "    }\n",
       "\n",
       "    .dataframe thead th {\n",
       "        text-align: right;\n",
       "    }\n",
       "</style>\n",
       "<table border=\"1\" class=\"dataframe\">\n",
       "  <thead>\n",
       "    <tr style=\"text-align: right;\">\n",
       "      <th></th>\n",
       "      <th>Names</th>\n",
       "      <th>Prices</th>\n",
       "      <th>Neighbourhoods</th>\n",
       "      <th>Number_of_reviews</th>\n",
       "      <th>Ratings</th>\n",
       "    </tr>\n",
       "  </thead>\n",
       "  <tbody>\n",
       "    <tr>\n",
       "      <th>0</th>\n",
       "      <td>Puschels Pub</td>\n",
       "      <td>€</td>\n",
       "      <td>Tiergarten</td>\n",
       "      <td>7</td>\n",
       "      <td>[]</td>\n",
       "    </tr>\n",
       "    <tr>\n",
       "      <th>1</th>\n",
       "      <td>Gaffel Haus Berlin</td>\n",
       "      <td>€€</td>\n",
       "      <td>Mitte</td>\n",
       "      <td>74</td>\n",
       "      <td>[]</td>\n",
       "    </tr>\n",
       "    <tr>\n",
       "      <th>2</th>\n",
       "      <td>The Pub</td>\n",
       "      <td>€€</td>\n",
       "      <td>Mitte</td>\n",
       "      <td>80</td>\n",
       "      <td>[]</td>\n",
       "    </tr>\n",
       "    <tr>\n",
       "      <th>3</th>\n",
       "      <td>the CASTLE</td>\n",
       "      <td>€€</td>\n",
       "      <td>Mitte</td>\n",
       "      <td>16</td>\n",
       "      <td>[]</td>\n",
       "    </tr>\n",
       "    <tr>\n",
       "      <th>4</th>\n",
       "      <td>The Brit-Pub</td>\n",
       "      <td>€€</td>\n",
       "      <td>Reinickendorf</td>\n",
       "      <td>2</td>\n",
       "      <td>[]</td>\n",
       "    </tr>\n",
       "    <tr>\n",
       "      <th>5</th>\n",
       "      <td>Hops &amp; Barley Hausbrauerei</td>\n",
       "      <td>€</td>\n",
       "      <td>Friedrichshain</td>\n",
       "      <td>144</td>\n",
       "      <td>[]</td>\n",
       "    </tr>\n",
       "    <tr>\n",
       "      <th>6</th>\n",
       "      <td>Cliffs of Dooneen</td>\n",
       "      <td>€€</td>\n",
       "      <td>Prenzlauer</td>\n",
       "      <td>14</td>\n",
       "      <td>[]</td>\n",
       "    </tr>\n",
       "    <tr>\n",
       "      <th>7</th>\n",
       "      <td>Verkehrsberuhigte Ostzone</td>\n",
       "      <td>€</td>\n",
       "      <td>Mitte</td>\n",
       "      <td>15</td>\n",
       "      <td>[]</td>\n",
       "    </tr>\n",
       "    <tr>\n",
       "      <th>8</th>\n",
       "      <td>Aufsturz</td>\n",
       "      <td>€€</td>\n",
       "      <td>Mitte</td>\n",
       "      <td>124</td>\n",
       "      <td>[]</td>\n",
       "    </tr>\n",
       "    <tr>\n",
       "      <th>9</th>\n",
       "      <td>Taproom Berlin</td>\n",
       "      <td>€€</td>\n",
       "      <td>Mitte</td>\n",
       "      <td>6</td>\n",
       "      <td>[]</td>\n",
       "    </tr>\n",
       "  </tbody>\n",
       "</table>\n",
       "</div>"
      ],
      "text/plain": [
       "                        Names Prices  Neighbourhoods Number_of_reviews Ratings\n",
       "0                Puschels Pub      €      Tiergarten                 7      []\n",
       "1          Gaffel Haus Berlin     €€           Mitte                74      []\n",
       "2                     The Pub     €€           Mitte                80      []\n",
       "3                  the CASTLE     €€           Mitte                16      []\n",
       "4                The Brit-Pub     €€   Reinickendorf                 2      []\n",
       "5  Hops & Barley Hausbrauerei      €  Friedrichshain               144      []\n",
       "6           Cliffs of Dooneen     €€      Prenzlauer                14      []\n",
       "7   Verkehrsberuhigte Ostzone      €           Mitte                15      []\n",
       "8                    Aufsturz     €€           Mitte               124      []\n",
       "9              Taproom Berlin     €€           Mitte                 6      []"
      ]
     },
     "execution_count": 6,
     "metadata": {},
     "output_type": "execute_result"
    }
   ],
   "source": [
    "##For cleaning the price columns \n",
    "final_data =pd.DataFrame({'Names':pub_names2, 'Prices':price_level2,'Neighbourhoods':neighbourhood2,'Number_of_reviews':number_of_rating2,'Ratings':ratings2})\n",
    "final_data=final_data.mask(final_data.applymap(str).eq('[]'))\n",
    "final_data=final_data.explode(['Prices'])\n",
    "final_data=final_data.explode(['Neighbourhoods'])\n",
    "final_data"
   ]
  },
  {
   "cell_type": "code",
   "execution_count": 8,
   "metadata": {},
   "outputs": [],
   "source": [
    "final_data.to_csv('scrapping_pub.csv', index=False)"
   ]
  },
  {
   "cell_type": "code",
   "execution_count": 5,
   "metadata": {},
   "outputs": [],
   "source": [
    "# Tried to embed the code but now it looks like a list\n",
    "\n",
    "pub_names2 =[]\n",
    "ratings2 = []\n",
    "number_of_rating2 =[]\n",
    "price_level2 = []\n",
    "neighbourhood2 = []\n",
    "for soup in soups:\n",
    "    htags =soup.find_all(\"h3\",class_=\"css-kagwww\")\n",
    "    for tags in htags:\n",
    "        pub_names2.append(tags.text.replace('\\xa0','').split('.')[1])\n",
    "    rates = soup.find_all('span', class_='reviewCount__09f24__tnBk4 css-chan6m')\n",
    "    for rate in rates:\n",
    "        number_of_rating2.append(rate.text)\n",
    "    price_level = []\n",
    "    princing = soup.select('.css-dzq7l1')\n",
    "    for price in princing:\n",
    "        price_output = price.text\n",
    "        price_level2.append(re.findall('€+',price_output))\n",
    "    neighbour = soup.select('.css-dzq7l1')\n",
    "    for neighb in neighbour:\n",
    "        neighb_output= neighb.text\n",
    "        neighbourhood2.append(re.findall('€+(\\w+)',neighb_output))\n",
    "    \n",
    "    # ratings = soup.find_all('div',{'role':'img'})\n",
    "    ratings = []\n",
    "    main_container = soup.find_all('div',class_=\"container__09f24__mpR8_ hoverable__09f24__wQ_on margin-t3__09f24__riq4X margin-b3__09f24__l9v5d padding-t3__09f24__TMrIW padding-r3__09f24__eaF7p padding-b3__09f24__S8R2d padding-l3__09f24__IOjKY border--top__09f24__exYYb border--right__09f24__X7Tln border--bottom__09f24___mg5X border--left__09f24__DMOkM border-color--default__09f24__NPAKY\")\n",
    "    for contents in main_container:\n",
    "        ratings2=contents.find('div',{'role':'img'})\n",
    "        if ratings2:\n",
    "            ratings.append(ratings2['aria-label'].split(' ')[0])\n",
    "        else:\n",
    "            ratings.append(np.NaN)\n",
    "\n"
   ]
  }
 ],
 "metadata": {
  "interpreter": {
   "hash": "b30284c3eb2fe4bedcae5b4d3ef6c8cdca82eb3ff0361126b1f813dcb02e6084"
  },
  "kernelspec": {
   "display_name": "Python 3.8.12 ('strive')",
   "language": "python",
   "name": "python3"
  },
  "language_info": {
   "codemirror_mode": {
    "name": "ipython",
    "version": 3
   },
   "file_extension": ".py",
   "mimetype": "text/x-python",
   "name": "python",
   "nbconvert_exporter": "python",
   "pygments_lexer": "ipython3",
   "version": "3.10.0"
  },
  "orig_nbformat": 4
 },
 "nbformat": 4,
 "nbformat_minor": 2
}
